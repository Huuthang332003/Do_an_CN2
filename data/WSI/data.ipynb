{
 "cells": [
  {
   "cell_type": "code",
   "execution_count": 3,
   "id": "7bd945ed-3a11-4dd7-891a-6bf8c2e6c7bd",
   "metadata": {},
   "outputs": [
    {
     "name": "stdout",
     "output_type": "stream",
     "text": [
      "Cloning into 'ComparisonDetector'...\n",
      "\n"
     ]
    }
   ],
   "source": [
    "!git clone https://github.com/kuku-sichuan/ComparisonDetector"
   ]
  },
  {
   "cell_type": "code",
   "execution_count": 2,
   "id": "5de66dcb-c16e-4d0f-a8ae-47124895ce34",
   "metadata": {},
   "outputs": [
    {
     "name": "stdout",
     "output_type": "stream",
     "text": [
      "Đã tạo các file Train.csv, Val.csv, và Test.csv\n"
     ]
    }
   ],
   "source": [
    "import os\n",
    "import pandas as pd\n",
    "from sklearn.model_selection import train_test_split\n",
    "\n",
    "# Đường dẫn đến thư mục chứa các folder\n",
    "base_dir = 'ComparisonDetector/images'  # Thay bằng đường dẫn đến thư mục của bạn\n",
    "\n",
    "# Danh sách các class (folder names)\n",
    "classes = ['1', '2', '3', '4', '5', '6', '7', '8', '9', '10', '11']\n",
    "\n",
    "# Khởi tạo danh sách để lưu dữ liệu\n",
    "data = []\n",
    "\n",
    "# Duyệt qua từng folder (class)\n",
    "for class_folder in os.listdir(base_dir):\n",
    "    class_path = os.path.join(base_dir, class_folder)\n",
    "    \n",
    "    # Kiểm tra xem class_folder có phải là một folder và là số nguyên không\n",
    "    if os.path.isdir(class_path) and class_folder.isdigit():\n",
    "        # Tìm chỉ số của class hiện tại trong danh sách classes\n",
    "        class_index = int(class_folder) - 1  # Chuyển từ folder number thành index của class\n",
    "        class_name = classes[class_index]\n",
    "        \n",
    "        # Duyệt qua từng file trong folder hiện tại\n",
    "        for filename in os.listdir(class_path):\n",
    "            if filename.endswith(('.jpg', '.jpeg', '.png')):  # Kiểm tra đuôi file ảnh\n",
    "                # Tạo đường dẫn theo cấu trúc \"WSI/class_folder/filename\"\n",
    "                row = [f'WSI/{class_folder}/{filename}'] + [0] * len(classes)  # Thêm class vào đường dẫn\n",
    "                # Đặt giá trị 1 cho cột tương ứng với class của file\n",
    "                row[class_index + 1] = 1\n",
    "                data.append(row)\n",
    "\n",
    "# Tạo DataFrame với các cột\n",
    "columns = ['image_name'] + classes\n",
    "df = pd.DataFrame(data, columns=columns)\n",
    "\n",
    "# Chia dữ liệu thành tập Train (70%), Validation (15%), và Test (15%)\n",
    "train_df, test_val_df = train_test_split(df, test_size=0.3, random_state=42)\n",
    "val_df, test_df = train_test_split(test_val_df, test_size=0.5, random_state=42)\n",
    "\n",
    "# Lưu các DataFrame vào file CSV\n",
    "train_df.to_csv('Train.csv', index=False)\n",
    "val_df.to_csv('Val.csv', index=False)\n",
    "test_df.to_csv('Test.csv', index=False)\n",
    "\n",
    "print(\"Đã tạo các file Train.csv, Val.csv, và Test.csv\")"
   ]
  },
  {
   "cell_type": "markdown",
   "id": "4b42a604-5963-42b0-bb1f-46df403992fd",
   "metadata": {},
   "source": [
    "## Name: Comparison Detector"
   ]
  },
  {
   "cell_type": "code",
   "execution_count": 4,
   "id": "e4a7f035-f244-4744-86e8-3f86abc8e05d",
   "metadata": {},
   "outputs": [
    {
     "name": "stdout",
     "output_type": "stream",
     "text": [
      "(1094, 12)\n",
      "(235, 12)\n",
      "(234, 12)\n"
     ]
    }
   ],
   "source": [
    "import pandas as pd\n",
    "train = pd.read_csv('Train.csv')\n",
    "test = pd.read_csv('Test.csv')\n",
    "val = pd.read_csv('Val.csv')\n",
    "print(train.shape)\n",
    "print(test.shape)\n",
    "print(val.shape)"
   ]
  },
  {
   "cell_type": "code",
   "execution_count": 5,
   "id": "dfb38008-f1db-4413-957f-bba43e8bd0ef",
   "metadata": {},
   "outputs": [
    {
     "data": {
      "text/html": [
       "<div>\n",
       "<style scoped>\n",
       "    .dataframe tbody tr th:only-of-type {\n",
       "        vertical-align: middle;\n",
       "    }\n",
       "\n",
       "    .dataframe tbody tr th {\n",
       "        vertical-align: top;\n",
       "    }\n",
       "\n",
       "    .dataframe thead th {\n",
       "        text-align: right;\n",
       "    }\n",
       "</style>\n",
       "<table border=\"1\" class=\"dataframe\">\n",
       "  <thead>\n",
       "    <tr style=\"text-align: right;\">\n",
       "      <th></th>\n",
       "      <th>image</th>\n",
       "      <th>1</th>\n",
       "      <th>2</th>\n",
       "      <th>3</th>\n",
       "      <th>4</th>\n",
       "      <th>5</th>\n",
       "      <th>6</th>\n",
       "      <th>7</th>\n",
       "      <th>8</th>\n",
       "      <th>9</th>\n",
       "      <th>10</th>\n",
       "      <th>11</th>\n",
       "    </tr>\n",
       "  </thead>\n",
       "  <tbody>\n",
       "    <tr>\n",
       "      <th>0</th>\n",
       "      <td>1357.jpg</td>\n",
       "      <td>0</td>\n",
       "      <td>0</td>\n",
       "      <td>0</td>\n",
       "      <td>0</td>\n",
       "      <td>1</td>\n",
       "      <td>0</td>\n",
       "      <td>0</td>\n",
       "      <td>0</td>\n",
       "      <td>0</td>\n",
       "      <td>0</td>\n",
       "      <td>0</td>\n",
       "    </tr>\n",
       "    <tr>\n",
       "      <th>1</th>\n",
       "      <td>326.jpg</td>\n",
       "      <td>0</td>\n",
       "      <td>0</td>\n",
       "      <td>0</td>\n",
       "      <td>0</td>\n",
       "      <td>0</td>\n",
       "      <td>0</td>\n",
       "      <td>1</td>\n",
       "      <td>0</td>\n",
       "      <td>0</td>\n",
       "      <td>0</td>\n",
       "      <td>0</td>\n",
       "    </tr>\n",
       "    <tr>\n",
       "      <th>2</th>\n",
       "      <td>1327.jpg</td>\n",
       "      <td>0</td>\n",
       "      <td>1</td>\n",
       "      <td>0</td>\n",
       "      <td>0</td>\n",
       "      <td>0</td>\n",
       "      <td>0</td>\n",
       "      <td>0</td>\n",
       "      <td>0</td>\n",
       "      <td>0</td>\n",
       "      <td>0</td>\n",
       "      <td>0</td>\n",
       "    </tr>\n",
       "    <tr>\n",
       "      <th>3</th>\n",
       "      <td>1308.jpg</td>\n",
       "      <td>0</td>\n",
       "      <td>1</td>\n",
       "      <td>0</td>\n",
       "      <td>0</td>\n",
       "      <td>0</td>\n",
       "      <td>0</td>\n",
       "      <td>0</td>\n",
       "      <td>0</td>\n",
       "      <td>0</td>\n",
       "      <td>0</td>\n",
       "      <td>0</td>\n",
       "    </tr>\n",
       "    <tr>\n",
       "      <th>4</th>\n",
       "      <td>1067.jpg</td>\n",
       "      <td>0</td>\n",
       "      <td>0</td>\n",
       "      <td>0</td>\n",
       "      <td>0</td>\n",
       "      <td>0</td>\n",
       "      <td>0</td>\n",
       "      <td>0</td>\n",
       "      <td>0</td>\n",
       "      <td>1</td>\n",
       "      <td>0</td>\n",
       "      <td>0</td>\n",
       "    </tr>\n",
       "  </tbody>\n",
       "</table>\n",
       "</div>"
      ],
      "text/plain": [
       "      image  1  2  3  4  5  6  7  8  9  10  11\n",
       "0  1357.jpg  0  0  0  0  1  0  0  0  0   0   0\n",
       "1   326.jpg  0  0  0  0  0  0  1  0  0   0   0\n",
       "2  1327.jpg  0  1  0  0  0  0  0  0  0   0   0\n",
       "3  1308.jpg  0  1  0  0  0  0  0  0  0   0   0\n",
       "4  1067.jpg  0  0  0  0  0  0  0  0  1   0   0"
      ]
     },
     "execution_count": 5,
     "metadata": {},
     "output_type": "execute_result"
    }
   ],
   "source": [
    "train.head()"
   ]
  },
  {
   "cell_type": "code",
   "execution_count": 8,
   "id": "1f90841d-6d42-403c-960e-292a546edb82",
   "metadata": {},
   "outputs": [
    {
     "name": "stdout",
     "output_type": "stream",
     "text": [
      "Số lượng mẫu của từng class trong các tập dữ liệu:\n",
      "    Train  Validation  Test\n",
      "1      94          26    21\n",
      "2      97          19    23\n",
      "3      96          25    22\n",
      "4     101          27    21\n",
      "5     111          15    21\n",
      "6     104          24    20\n",
      "7      95          18    17\n",
      "8     109          19    16\n",
      "9      92          23    32\n",
      "10     97          21    24\n",
      "11     98          17    18\n"
     ]
    }
   ],
   "source": [
    "# Danh sách các class (folder names)\n",
    "classes = ['1', '2', '3', '4', '5', '6', '7', '8', '9', '10', '11']\n",
    "\n",
    "# Hàm đếm số lượng mẫu của từng class\n",
    "def count_samples_by_class(df, classes):\n",
    "    counts = {}\n",
    "    for class_name in classes:\n",
    "        counts[class_name] = df[class_name].sum()\n",
    "    return counts\n",
    "\n",
    "# Tạo DataFrame từ số lượng mẫu của từng class trong mỗi tập\n",
    "train_counts = count_samples_by_class(train, classes)\n",
    "val_counts = count_samples_by_class(val, classes)\n",
    "test_counts = count_samples_by_class(test, classes)\n",
    "\n",
    "# Tạo DataFrame để hiển thị kết quả dưới dạng bảng\n",
    "counts_df = pd.DataFrame({\n",
    "    'Train': train_counts,\n",
    "    'Validation': val_counts,\n",
    "    'Test': test_counts\n",
    "})\n",
    "\n",
    "print(\"Số lượng mẫu của từng class trong các tập dữ liệu:\")\n",
    "print(counts_df)"
   ]
  },
  {
   "cell_type": "markdown",
   "id": "873fd108-7dd9-4486-944c-9906d49277a2",
   "metadata": {},
   "source": [
    "- 1: hsil\n",
    "- 2: ascus\n",
    "- 3: agc\n",
    "- 4: asch\n",
    "- 5: trich\n",
    "- 6: lsil\n",
    "- 7: cand\n",
    "- 8: actin\n",
    "- 9: flora\n",
    "- 10: scc\n",
    "- 11: herps"
   ]
  },
  {
   "attachments": {},
   "cell_type": "markdown",
   "id": "ea5dc968-5904-4b1c-8c00-55a32b7f7906",
   "metadata": {},
   "source": [
    "![Class 1](ComparisonDetector/images/README/categories.png)"
   ]
  },
  {
   "cell_type": "markdown",
   "id": "a6095ae7-149e-4e0a-96aa-235b5bec3720",
   "metadata": {},
   "source": [
    "# NOTICE!!!!\n",
    "you can get code and dataset in new [address](https://github.com/CVIU-CSU/ComparisonDetector)\n",
    "# NEW VERSION WILL UPDATE!\n",
    "\n",
    "## Comparison-Based Convolutional Neural Networks for Cervical Cell/Clumps Detection in the Limited Data Scenario\n",
    "\n",
    "### abstract\n",
    "Automated detection of cervical cancer cells or cell clumps has the potential to significantly\n",
    " reduce error rate and increase productivity in cervical cancer screening. However, most traditional \n",
    " methods rely on the success of accurate cell segmentation and discriminative hand-crafted features \n",
    " extraction. Recently there are emerging deep learning-based methods which train convolutional neural \n",
    " networks to classify image patches, but they are computationally expensive. In this paper we \n",
    " propose to an end-to-end object detection methods for cervical cancer detection. More importantly, we develop the Comparison detector based on Faster-RCNN with Feature Pyramid Network(baseline model) to deal with \n",
    " the limited-data problem. Actually, the key idea is that classify the region proposals by comparising with the prototype representations of each category which learn from reference images. In addition, we propose to learn the prototype representations of the background\n",
    " from the data instead of reference images manually choosing by some heuristic rules. Comparison detector shows significant improvement for small dataset, achieving a mean Average Precision (mAP) __26.3%__ and an Average Recall (AR) __35.7%__,\n",
    " both improving about __20__ points compared to baseline model. Moreover, Comparison detector achieves better performance on mAP compared with baseline model when training on the medium dataset, and improves AR by __4.6__ points. Our method is promising for the development of automation-assisted cervical cancer screening systems.\n",
    "\n",
    "### Environment\n",
    "* CUDA==9.1\n",
    "* cuDNN==7.0\n",
    "* tensorflow==1.8.0\n",
    "\n",
    "### Downloading Data and Weight\n",
    "If you want to check the effect, you can download the test set in [here](https://pan.baidu.com/s/1BYU3DsX8J8AiaKbE43Iqgw) and put it under the `tfdata/tct`. As same time, you must download the [weight](https://pan.baidu.com/s/1fC3fsKzwfGxq7BxvMjzC1Q) of model and unzip in the home directory.\n",
    "\n",
    "### Evaluation and Prediction\n",
    "\n",
    "We provide `evaluate_network.ipynb` to verify our results. We also provide `predict.ipynb` to predict results of a single picture.\n",
    "\n",
    "### Dataset\n",
    "The dataset consists of 7410 cervical microscopical images which are cropped from the whole slide images (WSIs) obtained by Pannoramic MIDI II digital slide scanner. In the dataset, there are totally 48,587 instances belonging to 11 categories. We randomly divide the dataset into training set D<sub>f</sub> which contains 6666 images and test set which contains 744 images. The small training set D<sub>s</sub> contains 762 images randomly chosen from D<sub>f</sub>.\n",
    "\n",
    "__Original image cropped from WSI__\n",
    "<p align=\"center\">\n",
    "  <img width=\"450\" src=\"https://github.com/kuku-sichuan/ComparisonDetector/blob/master/images/README/orig.jpg\" />\n",
    "</p>\n",
    "\n",
    "__Some instances in 11 categories__\n",
    "<p align=\"center\">\n",
    "  <img width=\"500\" src=\"https://github.com/kuku-sichuan/ComparisonDetector/blob/master/images/README/categories.png\" />\n",
    "</p>\n",
    "\n",
    "The dataset is available on Google driver [here](https://drive.google.com/drive/folders/1YzPkv6rHLNQXA6QmEUoCl9mWV9fQFsik).\n"
   ]
  },
  {
   "cell_type": "code",
   "execution_count": null,
   "id": "35aa3ede-c565-41b6-ba7c-11aa5a1b7d89",
   "metadata": {},
   "outputs": [],
   "source": []
  }
 ],
 "metadata": {
  "kernelspec": {
   "display_name": "Python 3",
   "language": "python",
   "name": "python3"
  },
  "language_info": {
   "codemirror_mode": {
    "name": "ipython",
    "version": 3
   },
   "file_extension": ".py",
   "mimetype": "text/x-python",
   "name": "python",
   "nbconvert_exporter": "python",
   "pygments_lexer": "ipython3",
   "version": "3.10.10"
  }
 },
 "nbformat": 4,
 "nbformat_minor": 5
}
