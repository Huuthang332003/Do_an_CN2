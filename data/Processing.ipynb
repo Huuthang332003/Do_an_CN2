{
 "cells": [
  {
   "cell_type": "code",
   "execution_count": 6,
   "id": "486f8ac4-dca9-4993-9291-1339a707f62f",
   "metadata": {},
   "outputs": [
    {
     "name": "stdout",
     "output_type": "stream",
     "text": [
      "Dataset URL: https://www.kaggle.com/datasets/mohaliy2016/papsinglecell\n",
      "License(s): other\n",
      "Downloading papsinglecell.zip to /teamspace/studios/this_studio/SRC-MT/data\n",
      " 97%|███████████████████████████████████████▊ | 391M/403M [00:04<00:00, 104MB/s]\n",
      "100%|████████████████████████████████████████| 403M/403M [00:04<00:00, 95.9MB/s]\n"
     ]
    }
   ],
   "source": [
    "!kaggle datasets download -d mohaliy2016/papsinglecell"
   ]
  },
  {
   "cell_type": "code",
   "execution_count": 1,
   "id": "4880bcaf-7187-45f9-b991-f74d58fb0728",
   "metadata": {},
   "outputs": [
    {
     "name": "stdout",
     "output_type": "stream",
     "text": [
      "(2839, 6)\n",
      "(710, 6)\n",
      "(500, 6)\n"
     ]
    }
   ],
   "source": [
    "import pandas as pd\n",
    "\n",
    "# Kiểm tra nội dung các tệp CSV\n",
    "train_df = pd.read_csv('sipakmed_train.csv')\n",
    "val_df = pd.read_csv('sipakmed_val.csv')\n",
    "test_df = pd.read_csv('sipakmed_test.csv')\n",
    "\n",
    "print(train_df.shape)  # Xem 5 dòng đầu tiên của tập train\n",
    "print(val_df.shape)    # Xem 5 dòng đầu tiên của tập val\n",
    "print(test_df.shape)   # Xem 5 dòng đầu tiên của tập test"
   ]
  },
  {
   "cell_type": "code",
   "execution_count": 2,
   "id": "31c52905-5008-4978-b514-96ca37007be8",
   "metadata": {},
   "outputs": [
    {
     "name": "stdout",
     "output_type": "stream",
     "text": [
      "Giá trị count cho cột Dyskeratotic:\n",
      "Dyskeratotic\n",
      "0    2269\n",
      "1     570\n",
      "Name: count, dtype: int64\n",
      "\n",
      "\n",
      "Giá trị count cho cột Koilocytotic:\n",
      "Koilocytotic\n",
      "0    2259\n",
      "1     580\n",
      "Name: count, dtype: int64\n",
      "\n",
      "\n",
      "Giá trị count cho cột Metaplastic:\n",
      "Metaplastic\n",
      "0    2285\n",
      "1     554\n",
      "Name: count, dtype: int64\n",
      "\n",
      "\n",
      "Giá trị count cho cột Parabasal:\n",
      "Parabasal\n",
      "0    2289\n",
      "1     550\n",
      "Name: count, dtype: int64\n",
      "\n",
      "\n",
      "Giá trị count cho cột Superficial-Intermediate:\n",
      "Superficial-Intermediate\n",
      "0    2254\n",
      "1     585\n",
      "Name: count, dtype: int64\n",
      "\n",
      "\n"
     ]
    }
   ],
   "source": [
    "import pandas as pd\n",
    "\n",
    "# Đọc tệp CSV\n",
    "df = pd.read_csv('sipakmed_train.csv')\n",
    "\n",
    "# Danh sách các cột bạn muốn kiểm tra\n",
    "selected_columns = ['Dyskeratotic', 'Koilocytotic', 'Metaplastic', 'Parabasal', 'Superficial-Intermediate']\n",
    "\n",
    "# Kiểm tra số lượng các giá trị trong từng cột đã chọn\n",
    "for col in selected_columns:\n",
    "    if col in df.columns:\n",
    "        # Lấy giá trị trong cột cụ thể\n",
    "        data = df[col]\n",
    "        \n",
    "        # Đếm số lượng giá trị trong mảng\n",
    "        print(f\"Giá trị count cho cột {col}:\")\n",
    "        value_counts = data.value_counts()\n",
    "        print(value_counts)\n",
    "        print(\"\\n\")  # Dòng trống để dễ đọc\n",
    "    else:\n",
    "        print(f\"Cột {col} không tồn tại trong file CSV.\\n\")"
   ]
  },
  {
   "cell_type": "code",
   "execution_count": null,
   "id": "53fc80f7-674d-4e9f-8d0f-c092a0013f7e",
   "metadata": {},
   "outputs": [],
   "source": []
  }
 ],
 "metadata": {
  "kernelspec": {
   "display_name": "Python 3",
   "language": "python",
   "name": "python3"
  },
  "language_info": {
   "codemirror_mode": {
    "name": "ipython",
    "version": 3
   },
   "file_extension": ".py",
   "mimetype": "text/x-python",
   "name": "python",
   "nbconvert_exporter": "python",
   "pygments_lexer": "ipython3",
   "version": "3.10.14"
  }
 },
 "nbformat": 4,
 "nbformat_minor": 5
}
