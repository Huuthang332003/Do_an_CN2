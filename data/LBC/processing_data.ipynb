{
 "cells": [
  {
   "cell_type": "code",
   "execution_count": 6,
   "id": "6463b3a8-d46b-43a9-9804-15cca6ba3121",
   "metadata": {},
   "outputs": [
    {
     "name": "stdout",
     "output_type": "stream",
     "text": [
      "Đã tạo các file Train.csv, Val.csv, và Test.csv\n"
     ]
    }
   ],
   "source": [
    "import os\n",
    "import pandas as pd\n",
    "from sklearn.model_selection import train_test_split\n",
    "\n",
    "# Đường dẫn đến thư mục chứa các folder\n",
    "base_dir = 'LBC/'  # Thay bằng đường dẫn đến thư mục của bạn\n",
    "\n",
    "# Danh sách các class (folder names)\n",
    "classes = ['Squamous', 'Negative', 'Low', 'High']\n",
    "\n",
    "# Khởi tạo danh sách để lưu dữ liệu\n",
    "data = []\n",
    "\n",
    "# Duyệt qua từng folder (class)\n",
    "for class_folder in os.listdir(base_dir):\n",
    "    class_path = os.path.join(base_dir, class_folder)\n",
    "    \n",
    "    # Kiểm tra xem class_folder có phải là một folder và có trong danh sách classes\n",
    "    if os.path.isdir(class_path) and class_folder in classes:\n",
    "        # Tìm chỉ số của class hiện tại trong danh sách classes\n",
    "        class_index = classes.index(class_folder)\n",
    "        \n",
    "        # Duyệt qua từng file trong folder hiện tại\n",
    "        for filename in os.listdir(class_path):\n",
    "            if filename.endswith(('.jpg', '.jpeg', '.png')):  # Kiểm tra đuôi file ảnh\n",
    "                # Tạo đường dẫn đầy đủ của file ảnh bao gồm cả thư mục gốc\n",
    "                full_path = os.path.join(base_dir, class_folder, filename)\n",
    "                \n",
    "                # Tạo một dòng dữ liệu với tên file và các cột class\n",
    "                row = [full_path] + [0] * len(classes)\n",
    "                \n",
    "                # Đặt giá trị 1 cho cột tương ứng với class của file\n",
    "                row[class_index + 1] = 1\n",
    "                data.append(row)\n",
    "\n",
    "# Tạo DataFrame với các cột\n",
    "columns = ['image_name'] + classes\n",
    "df = pd.DataFrame(data, columns=columns)\n",
    "\n",
    "# Chia dữ liệu thành tập Train (70%), Validation (15%), và Test (15%)\n",
    "train_df, test_val_df = train_test_split(df, test_size=0.3, random_state=42)\n",
    "val_df, test_df = train_test_split(test_val_df, test_size=0.5, random_state=42)\n",
    "\n",
    "# Lưu các DataFrame vào file CSV\n",
    "train_df.to_csv('Train.csv', index=False)\n",
    "val_df.to_csv('Val.csv', index=False)\n",
    "test_df.to_csv('Test.csv', index=False)\n",
    "\n",
    "print(\"Đã tạo các file Train.csv, Val.csv, và Test.csv\")"
   ]
  },
  {
   "cell_type": "code",
   "execution_count": 7,
   "id": "d36fc9b6-570a-4d7b-87c7-0cf5f8be8471",
   "metadata": {},
   "outputs": [
    {
     "name": "stdout",
     "output_type": "stream",
     "text": [
      "(673, 5)\n",
      "(145, 5)\n",
      "(144, 5)\n"
     ]
    }
   ],
   "source": [
    "import pandas as pd\n",
    "train = pd.read_csv('Train.csv')\n",
    "test = pd.read_csv('Test.csv')\n",
    "val = pd.read_csv('Val.csv')\n",
    "print(train.shape)\n",
    "print(test.shape)\n",
    "print(val.shape)"
   ]
  },
  {
   "cell_type": "code",
   "execution_count": 8,
   "id": "1566f582-2ad6-4299-87ef-f1fd5c17122d",
   "metadata": {},
   "outputs": [
    {
     "name": "stdout",
     "output_type": "stream",
     "text": [
      "Số lượng mẫu của từng class trong các tập dữ liệu:\n",
      "train [51, 422, 77, 123]\n",
      "val [10, 100, 11, 23]\n",
      "test [13, 90, 25, 17]\n"
     ]
    }
   ],
   "source": [
    "# Danh sách các class (folder names)\n",
    "classes = ['Squamous', 'Negative', 'Low', 'High']\n",
    "\n",
    "# Hàm đếm số lượng mẫu của từng class\n",
    "def count_samples_by_class(df, classes):\n",
    "    counts = []\n",
    "    for class_name in classes:\n",
    "        counts.append(df[class_name].sum())\n",
    "    return counts\n",
    "\n",
    "# Tạo danh sách chứa số lượng mẫu của từng class trong mỗi tập\n",
    "train_counts = count_samples_by_class(train, classes)\n",
    "val_counts = count_samples_by_class(val, classes)\n",
    "test_counts = count_samples_by_class(test, classes)\n",
    "\n",
    "# Hiển thị kết quả dưới dạng chuỗi theo định dạng yêu cầu\n",
    "print(\"Số lượng mẫu của từng class trong các tập dữ liệu:\")\n",
    "print(f\"train {train_counts}\")\n",
    "print(f\"val {val_counts}\")\n",
    "print(f\"test {test_counts}\")\n"
   ]
  },
  {
   "cell_type": "code",
   "execution_count": null,
   "id": "d4821afc-ea06-4910-9d6e-cc02d442a078",
   "metadata": {},
   "outputs": [],
   "source": []
  }
 ],
 "metadata": {
  "kernelspec": {
   "display_name": "myenv",
   "language": "python",
   "name": "myenv"
  },
  "language_info": {
   "codemirror_mode": {
    "name": "ipython",
    "version": 3
   },
   "file_extension": ".py",
   "mimetype": "text/x-python",
   "name": "python",
   "nbconvert_exporter": "python",
   "pygments_lexer": "ipython3",
   "version": "3.12.3"
  }
 },
 "nbformat": 4,
 "nbformat_minor": 5
}
